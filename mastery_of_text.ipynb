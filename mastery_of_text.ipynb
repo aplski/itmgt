{
 "cells": [
  {
   "cell_type": "code",
   "execution_count": null,
   "id": "4885f933-9987-49d1-aa07-d10bc9bfef76",
   "metadata": {},
   "outputs": [],
   "source": [
    "import urllib.request\n",
    "\n",
    "url = 'https://www.gutenberg.org/cache/epub/10/pg10.txt'\n",
    "response = urllib.request.urlopen(url)\n",
    "pg10 = response.read().decode('utf-8')"
   ]
  },
  {
   "cell_type": "code",
   "execution_count": 15,
   "id": "47792e61-36c5-4f9c-b368-5a8e8e768bae",
   "metadata": {},
   "outputs": [
    {
     "name": "stdout",
     "output_type": "stream",
     "text": [
      "99968\n"
     ]
    }
   ],
   "source": [
    "#question one\n",
    "\n",
    "line_count = pg10.count('\\n')\n",
    "print(line_count)"
   ]
  },
  {
   "cell_type": "code",
   "execution_count": 14,
   "id": "c1d6a2c9-27b9-4e8b-b57d-fc101ae453fe",
   "metadata": {},
   "outputs": [
    {
     "name": "stdout",
     "output_type": "stream",
     "text": [
      "795227\n"
     ]
    }
   ],
   "source": [
    "#question two\n",
    "\n",
    "text = pg10\n",
    "words = []\n",
    "current = ''\n",
    "\n",
    "for i in text:\n",
    "    if i.isalpha():\n",
    "        current += i\n",
    "    else:\n",
    "        if len(current)>0:\n",
    "            words.append(current)\n",
    "            current = ''\n",
    "\n",
    "if current:\n",
    "    words.append(current)\n",
    "\n",
    "print(len(words))"
   ]
  },
  {
   "cell_type": "code",
   "execution_count": 17,
   "id": "20cb0db8-dc7d-47bb-a771-8c55f433d188",
   "metadata": {},
   "outputs": [
    {
     "name": "stdout",
     "output_type": "stream",
     "text": [
      "47\n"
     ]
    }
   ],
   "source": [
    "#question three\n",
    "\n",
    "lowwords=[]\n",
    "for x in words:\n",
    "    lowwords.append(x.lower())\n",
    "\n",
    "apostlecount = 0\n",
    "for x in lowwords:\n",
    "    if x == \"apostle\":\n",
    "        apostlecount +=1\n",
    "\n",
    "print(apostlecount)"
   ]
  },
  {
   "cell_type": "code",
   "execution_count": 24,
   "id": "3e012543-4188-44a8-9bef-28377289f546",
   "metadata": {},
   "outputs": [
    {
     "name": "stdout",
     "output_type": "stream",
     "text": [
      "the\n"
     ]
    }
   ],
   "source": [
    "#question four\n",
    "\n",
    "mostw = {}\n",
    "for x in lowwords:\n",
    "    if x not in mostw:\n",
    "        mostw[x] = 1\n",
    "    else:\n",
    "        mostw[x] += 1\n",
    "\n",
    "values = []\n",
    "\n",
    "for v in mostw.values():\n",
    "    num = int(v)\n",
    "    values.append(num)\n",
    "\n",
    "keys = []\n",
    "for k in mostw.keys():\n",
    "    keys.append(k)\n",
    "\n",
    "maxvalue = values.index(max(values))\n",
    "print (keys[maxvalue])"
   ]
  }
 ],
 "metadata": {
  "kernelspec": {
   "display_name": "Python 3 (ipykernel)",
   "language": "python",
   "name": "python3"
  },
  "language_info": {
   "codemirror_mode": {
    "name": "ipython",
    "version": 3
   },
   "file_extension": ".py",
   "mimetype": "text/x-python",
   "name": "python",
   "nbconvert_exporter": "python",
   "pygments_lexer": "ipython3",
   "version": "3.11.7"
  }
 },
 "nbformat": 4,
 "nbformat_minor": 5
}
